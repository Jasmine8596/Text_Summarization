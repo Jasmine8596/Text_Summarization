{
 "cells": [
  {
   "cell_type": "code",
   "execution_count": 3,
   "metadata": {
    "colab": {},
    "colab_type": "code",
    "id": "Fi64aA0FFxcS"
   },
   "outputs": [],
   "source": [
    "from attention import AttentionLayer"
   ]
  },
  {
   "cell_type": "code",
   "execution_count": 4,
   "metadata": {
    "_cell_guid": "b1076dfc-b9ad-4769-8c92-a6c4dae69d19",
    "_uuid": "8f2839f25d086af736a60e9eeb907d3b93b6e0e5",
    "colab": {},
    "colab_type": "code",
    "id": "_Jpu8qLEFxcY"
   },
   "outputs": [],
   "source": [
    "import numpy as np\n",
    "import pandas as pd \n",
    "from tensorflow.keras.preprocessing.text import Tokenizer \n",
    "from tensorflow.keras.preprocessing.sequence import pad_sequences\n",
    "from tensorflow.keras.layers import Input, LSTM, Embedding, Dense, Concatenate, TimeDistributed, Bidirectional, Add\n",
    "from tensorflow.keras.models import Model\n",
    "import tensorflow_datasets as tfds\n",
    "import tensorflow as tf"
   ]
  },
  {
   "cell_type": "code",
   "execution_count": 5,
   "metadata": {
    "colab": {},
    "colab_type": "code",
    "id": "zxOCgdcCfafh"
   },
   "outputs": [],
   "source": [
    "ds_train = tfds.load('gigaword', split='train')\n",
    "#ds_test = tfds.load('gigaword', split='test')"
   ]
  },
  {
   "cell_type": "code",
   "execution_count": 6,
   "metadata": {
    "colab": {},
    "colab_type": "code",
    "id": "wnK5o4Z1Fxcj"
   },
   "outputs": [],
   "source": [
    "ds = ds_train.take(100000)\n",
    "\n",
    "giga_input = []\n",
    "giga_ref = []\n",
    "\n",
    "for example in ds:\n",
    "    giga_input.append(str(example['document'].numpy(), 'utf-8'))\n",
    "    giga_ref.append(str(example['summary'].numpy(), 'utf-8'))\n",
    "\n",
    "data = pd.DataFrame()\n",
    "\n",
    "data['Text'] = giga_input\n",
    "data['Summary'] = giga_ref"
   ]
  },
  {
   "cell_type": "code",
   "execution_count": 8,
   "metadata": {
    "colab": {},
    "colab_type": "code",
    "id": "ZAEolpVL8_Nz"
   },
   "outputs": [],
   "source": [
    "data = pd.read_csv(\"Giga_word_corpus.csv\", nrows=1000)"
   ]
  },
  {
   "cell_type": "code",
   "execution_count": 9,
   "metadata": {
    "colab": {
     "base_uri": "https://localhost:8080/",
     "height": 206
    },
    "colab_type": "code",
    "id": "cHhvn7rQruVv",
    "outputId": "ab2aa5be-7040-4bef-8a8d-24c57e2b8c1f"
   },
   "outputs": [
    {
     "data": {
      "text/html": [
       "<div>\n",
       "<style scoped>\n",
       "    .dataframe tbody tr th:only-of-type {\n",
       "        vertical-align: middle;\n",
       "    }\n",
       "\n",
       "    .dataframe tbody tr th {\n",
       "        vertical-align: top;\n",
       "    }\n",
       "\n",
       "    .dataframe thead th {\n",
       "        text-align: right;\n",
       "    }\n",
       "</style>\n",
       "<table border=\"1\" class=\"dataframe\">\n",
       "  <thead>\n",
       "    <tr style=\"text-align: right;\">\n",
       "      <th></th>\n",
       "      <th>Text</th>\n",
       "      <th>Summary</th>\n",
       "    </tr>\n",
       "  </thead>\n",
       "  <tbody>\n",
       "    <tr>\n",
       "      <th>0</th>\n",
       "      <td>officials of the cabinet-level fair trade comm...</td>\n",
       "      <td>fair trade commission investigating consumer p...</td>\n",
       "    </tr>\n",
       "    <tr>\n",
       "      <th>1</th>\n",
       "      <td>five people were killed , and a woman gravely ...</td>\n",
       "      <td>colombian nightclub shootout leaves five dead</td>\n",
       "    </tr>\n",
       "    <tr>\n",
       "      <th>2</th>\n",
       "      <td>preliminary dna testing on remains of ## red a...</td>\n",
       "      <td>estonia provides red army soldiers dna samples...</td>\n",
       "    </tr>\n",
       "    <tr>\n",
       "      <th>3</th>\n",
       "      <td>transocean inc. , the world 's largest offshor...</td>\n",
       "      <td>transocean globalsantafe plan to combine to cr...</td>\n",
       "    </tr>\n",
       "    <tr>\n",
       "      <th>4</th>\n",
       "      <td>palestinian president mahmoud abbas will make ...</td>\n",
       "      <td>palestinian president to visit malaysia on may ##</td>\n",
       "    </tr>\n",
       "  </tbody>\n",
       "</table>\n",
       "</div>"
      ],
      "text/plain": [
       "                                                Text                                            Summary\n",
       "0  officials of the cabinet-level fair trade comm...  fair trade commission investigating consumer p...\n",
       "1  five people were killed , and a woman gravely ...      colombian nightclub shootout leaves five dead\n",
       "2  preliminary dna testing on remains of ## red a...  estonia provides red army soldiers dna samples...\n",
       "3  transocean inc. , the world 's largest offshor...  transocean globalsantafe plan to combine to cr...\n",
       "4  palestinian president mahmoud abbas will make ...  palestinian president to visit malaysia on may ##"
      ]
     },
     "execution_count": 9,
     "metadata": {
      "tags": []
     },
     "output_type": "execute_result"
    }
   ],
   "source": [
    "data.head()"
   ]
  },
  {
   "cell_type": "code",
   "execution_count": 10,
   "metadata": {
    "colab": {},
    "colab_type": "code",
    "id": "gA-QTQFC7n0L"
   },
   "outputs": [],
   "source": [
    "data.to_csv(\"Giga_word_corpus.csv\", index = False)"
   ]
  },
  {
   "cell_type": "code",
   "execution_count": 11,
   "metadata": {
    "colab": {},
    "colab_type": "code",
    "id": "XZr-u3OEFxdT"
   },
   "outputs": [],
   "source": [
    "def text_cleaner(text):\n",
    "    text = text.lower()\n",
    "    text = text.replace(\".\", \"\")\n",
    "    text = text.replace(\"unk\", \"\")\n",
    "    text = text.replace(\" 's\", \"\")\n",
    "    tokens = text.split()\n",
    "    tokens = [t for t in tokens if t.isalnum()]\n",
    "    return (\" \".join(tokens)).strip()"
   ]
  },
  {
   "cell_type": "code",
   "execution_count": 12,
   "metadata": {
    "colab": {
     "base_uri": "https://localhost:8080/",
     "height": 124
    },
    "colab_type": "code",
    "id": "A2QAeCHWFxdY",
    "outputId": "0ccca3a3-df9f-419c-97e7-93111f96331f"
   },
   "outputs": [
    {
     "data": {
      "text/plain": [
       "['officials of the fair trade commission ftc said friday that they have formed an ad hoc group to investigate whether there is any manipulation of commodity prices by traders in local market',\n",
       " 'five people were killed and a woman gravely wounded following a lethal shootout at a nightclub in cali colombia third largest city local authorities said monday',\n",
       " 'preliminary dna testing on remains of red army soldiers uncovered at a war memorial will be conducted in russia and ukraine reports from the estonian capital of tallin said wednesday',\n",
       " 'transocean inc the world largest offshore drilling contractor said monday it will combine with smaller competitor globalsantafe corp creating a company with a full range of offshore drilling services in the world key markets',\n",
       " 'palestinian president mahmoud abbas will make a working visit to malaysia starting from may to malaysian foreign ministry said here on tuesday']"
      ]
     },
     "execution_count": 12,
     "metadata": {
      "tags": []
     },
     "output_type": "execute_result"
    }
   ],
   "source": [
    "cleaned_text = []\n",
    "for t in data['Text']:\n",
    "    cleaned_text.append(text_cleaner(t)) \n",
    "\n",
    "cleaned_text[:5]"
   ]
  },
  {
   "cell_type": "code",
   "execution_count": 13,
   "metadata": {
    "colab": {
     "base_uri": "https://localhost:8080/",
     "height": 104
    },
    "colab_type": "code",
    "id": "GsRXocxoFxd-",
    "outputId": "43ed24e3-760b-419a-a18e-e55261235ef1"
   },
   "outputs": [
    {
     "data": {
      "text/plain": [
       "['fair trade commission investigating consumer price hike',\n",
       " 'colombian nightclub shootout leaves five dead',\n",
       " 'estonia provides red army soldiers dna samples for russia ukraine',\n",
       " 'transocean globalsantafe plan to combine to create new oil drilling heavyweight',\n",
       " 'palestinian president to visit malaysia on may']"
      ]
     },
     "execution_count": 13,
     "metadata": {
      "tags": []
     },
     "output_type": "execute_result"
    }
   ],
   "source": [
    "cleaned_summary = []\n",
    "for t in data['Summary']:\n",
    "    cleaned_summary.append(text_cleaner(t))\n",
    "\n",
    "cleaned_summary[:5]"
   ]
  },
  {
   "cell_type": "code",
   "execution_count": 14,
   "metadata": {
    "colab": {},
    "colab_type": "code",
    "id": "L1zLpnqsFxey"
   },
   "outputs": [],
   "source": [
    "data['cleaned_text']=cleaned_text\n",
    "data['cleaned_summary']=cleaned_summary"
   ]
  },
  {
   "cell_type": "code",
   "execution_count": 15,
   "metadata": {
    "colab": {
     "base_uri": "https://localhost:8080/",
     "height": 206
    },
    "colab_type": "code",
    "id": "FsS-VzF3Q8Z3",
    "outputId": "332416b0-9169-4223-b2e3-d45ef0c02db4"
   },
   "outputs": [
    {
     "data": {
      "text/html": [
       "<div>\n",
       "<style scoped>\n",
       "    .dataframe tbody tr th:only-of-type {\n",
       "        vertical-align: middle;\n",
       "    }\n",
       "\n",
       "    .dataframe tbody tr th {\n",
       "        vertical-align: top;\n",
       "    }\n",
       "\n",
       "    .dataframe thead th {\n",
       "        text-align: right;\n",
       "    }\n",
       "</style>\n",
       "<table border=\"1\" class=\"dataframe\">\n",
       "  <thead>\n",
       "    <tr style=\"text-align: right;\">\n",
       "      <th></th>\n",
       "      <th>Text</th>\n",
       "      <th>Summary</th>\n",
       "      <th>cleaned_text</th>\n",
       "      <th>cleaned_summary</th>\n",
       "    </tr>\n",
       "  </thead>\n",
       "  <tbody>\n",
       "    <tr>\n",
       "      <th>0</th>\n",
       "      <td>officials of the cabinet-level fair trade comm...</td>\n",
       "      <td>fair trade commission investigating consumer p...</td>\n",
       "      <td>officials of the fair trade commission ftc sai...</td>\n",
       "      <td>fair trade commission investigating consumer p...</td>\n",
       "    </tr>\n",
       "    <tr>\n",
       "      <th>1</th>\n",
       "      <td>five people were killed , and a woman gravely ...</td>\n",
       "      <td>colombian nightclub shootout leaves five dead</td>\n",
       "      <td>five people were killed and a woman gravely wo...</td>\n",
       "      <td>colombian nightclub shootout leaves five dead</td>\n",
       "    </tr>\n",
       "    <tr>\n",
       "      <th>2</th>\n",
       "      <td>preliminary dna testing on remains of ## red a...</td>\n",
       "      <td>estonia provides red army soldiers dna samples...</td>\n",
       "      <td>preliminary dna testing on remains of red army...</td>\n",
       "      <td>estonia provides red army soldiers dna samples...</td>\n",
       "    </tr>\n",
       "    <tr>\n",
       "      <th>3</th>\n",
       "      <td>transocean inc. , the world 's largest offshor...</td>\n",
       "      <td>transocean globalsantafe plan to combine to cr...</td>\n",
       "      <td>transocean inc the world largest offshore dril...</td>\n",
       "      <td>transocean globalsantafe plan to combine to cr...</td>\n",
       "    </tr>\n",
       "    <tr>\n",
       "      <th>4</th>\n",
       "      <td>palestinian president mahmoud abbas will make ...</td>\n",
       "      <td>palestinian president to visit malaysia on may ##</td>\n",
       "      <td>palestinian president mahmoud abbas will make ...</td>\n",
       "      <td>palestinian president to visit malaysia on may</td>\n",
       "    </tr>\n",
       "  </tbody>\n",
       "</table>\n",
       "</div>"
      ],
      "text/plain": [
       "                                                Text  ...                                    cleaned_summary\n",
       "0  officials of the cabinet-level fair trade comm...  ...  fair trade commission investigating consumer p...\n",
       "1  five people were killed , and a woman gravely ...  ...      colombian nightclub shootout leaves five dead\n",
       "2  preliminary dna testing on remains of ## red a...  ...  estonia provides red army soldiers dna samples...\n",
       "3  transocean inc. , the world 's largest offshor...  ...  transocean globalsantafe plan to combine to cr...\n",
       "4  palestinian president mahmoud abbas will make ...  ...     palestinian president to visit malaysia on may\n",
       "\n",
       "[5 rows x 4 columns]"
      ]
     },
     "execution_count": 15,
     "metadata": {
      "tags": []
     },
     "output_type": "execute_result"
    }
   ],
   "source": [
    "data.head()"
   ]
  },
  {
   "cell_type": "code",
   "execution_count": 16,
   "metadata": {
    "colab": {
     "base_uri": "https://localhost:8080/",
     "height": 281
    },
    "colab_type": "code",
    "id": "MdF76AHHFxgw",
    "outputId": "66011cd8-ff68-4425-ca0a-2577b494a274"
   },
   "outputs": [
    {
     "data": {
      "image/png": "[encoded data removed]",
      "text/plain": [
       "<Figure size 432x288 with 2 Axes>"
      ]
     },
     "metadata": {
      "needs_background": "light",
      "tags": []
     },
     "output_type": "display_data"
    }
   ],
   "source": [
    "import matplotlib.pyplot as plt\n",
    "\n",
    "text_word_count = []\n",
    "summary_word_count = []\n",
    "\n",
    "# populate the lists with sentence lengths\n",
    "for i in data['cleaned_text']:\n",
    "      text_word_count.append(len(i.split()))\n",
    "\n",
    "for i in data['cleaned_summary']:\n",
    "      summary_word_count.append(len(i.split()))\n",
    "\n",
    "length_df = pd.DataFrame({'text':text_word_count, 'summary':summary_word_count})\n",
    "\n",
    "length_df.hist(bins = 30)\n",
    "plt.show()"
   ]
  },
  {
   "cell_type": "code",
   "execution_count": 17,
   "metadata": {
    "colab": {},
    "colab_type": "code",
    "id": "ZKD5VOWqFxhC"
   },
   "outputs": [],
   "source": [
    "max_text_len = 70\n",
    "max_summary_len = 15"
   ]
  },
  {
   "cell_type": "code",
   "execution_count": 18,
   "metadata": {
    "colab": {},
    "colab_type": "code",
    "id": "EwLUH78CFxhg"
   },
   "outputs": [],
   "source": [
    "df = pd.DataFrame({'text':np.array(data['cleaned_text']), 'summary':np.array(data['cleaned_summary'])})\n",
    "df['summary'] = df['summary'].apply(lambda x : 'sostok '+ x + ' eostok')"
   ]
  },
  {
   "cell_type": "code",
   "execution_count": 19,
   "metadata": {
    "colab": {
     "base_uri": "https://localhost:8080/",
     "height": 206
    },
    "colab_type": "code",
    "id": "Ih_3rhGQpufJ",
    "outputId": "ea01aec1-c623-4e9c-a964-511a17d9be9b"
   },
   "outputs": [
    {
     "data": {
      "text/html": [
       "<div>\n",
       "<style scoped>\n",
       "    .dataframe tbody tr th:only-of-type {\n",
       "        vertical-align: middle;\n",
       "    }\n",
       "\n",
       "    .dataframe tbody tr th {\n",
       "        vertical-align: top;\n",
       "    }\n",
       "\n",
       "    .dataframe thead th {\n",
       "        text-align: right;\n",
       "    }\n",
       "</style>\n",
       "<table border=\"1\" class=\"dataframe\">\n",
       "  <thead>\n",
       "    <tr style=\"text-align: right;\">\n",
       "      <th></th>\n",
       "      <th>text</th>\n",
       "      <th>summary</th>\n",
       "    </tr>\n",
       "  </thead>\n",
       "  <tbody>\n",
       "    <tr>\n",
       "      <th>0</th>\n",
       "      <td>officials of the fair trade commission ftc sai...</td>\n",
       "      <td>sostok fair trade commission investigating con...</td>\n",
       "    </tr>\n",
       "    <tr>\n",
       "      <th>1</th>\n",
       "      <td>five people were killed and a woman gravely wo...</td>\n",
       "      <td>sostok colombian nightclub shootout leaves fiv...</td>\n",
       "    </tr>\n",
       "    <tr>\n",
       "      <th>2</th>\n",
       "      <td>preliminary dna testing on remains of red army...</td>\n",
       "      <td>sostok estonia provides red army soldiers dna ...</td>\n",
       "    </tr>\n",
       "    <tr>\n",
       "      <th>3</th>\n",
       "      <td>transocean inc the world largest offshore dril...</td>\n",
       "      <td>sostok transocean globalsantafe plan to combin...</td>\n",
       "    </tr>\n",
       "    <tr>\n",
       "      <th>4</th>\n",
       "      <td>palestinian president mahmoud abbas will make ...</td>\n",
       "      <td>sostok palestinian president to visit malaysia...</td>\n",
       "    </tr>\n",
       "  </tbody>\n",
       "</table>\n",
       "</div>"
      ],
      "text/plain": [
       "                                                text                                            summary\n",
       "0  officials of the fair trade commission ftc sai...  sostok fair trade commission investigating con...\n",
       "1  five people were killed and a woman gravely wo...  sostok colombian nightclub shootout leaves fiv...\n",
       "2  preliminary dna testing on remains of red army...  sostok estonia provides red army soldiers dna ...\n",
       "3  transocean inc the world largest offshore dril...  sostok transocean globalsantafe plan to combin...\n",
       "4  palestinian president mahmoud abbas will make ...  sostok palestinian president to visit malaysia..."
      ]
     },
     "execution_count": 19,
     "metadata": {
      "tags": []
     },
     "output_type": "execute_result"
    }
   ],
   "source": [
    "df.head()"
   ]
  },
  {
   "cell_type": "code",
   "execution_count": 20,
   "metadata": {
    "colab": {},
    "colab_type": "code",
    "id": "RakakKHcFxhl"
   },
   "outputs": [],
   "source": [
    "from sklearn.model_selection import train_test_split\n",
    "x_tr,x_val,y_tr,y_val=train_test_split(np.array(df['text']),np.array(df['summary']),test_size=0.1,random_state=0,shuffle=True) "
   ]
  },
  {
   "cell_type": "code",
   "execution_count": 21,
   "metadata": {
    "colab": {},
    "colab_type": "code",
    "id": "J2giEsF3Fxh3"
   },
   "outputs": [],
   "source": [
    "#prepare a tokenizer for reviews on training data\n",
    "tokenizer = Tokenizer() \n",
    "tokenizer.fit_on_texts(list(x_tr) + list(y_tr))\n",
    "\n",
    "#convert text sequences into integer sequences\n",
    "x_tr_seq    =   tokenizer.texts_to_sequences(x_tr) \n",
    "x_val_seq   =   tokenizer.texts_to_sequences(x_val)\n",
    "\n",
    "#padding zero upto maximum length\n",
    "x_tr    =   pad_sequences(x_tr_seq,  maxlen=max_text_len, padding='post')\n",
    "x_val   =   pad_sequences(x_val_seq, maxlen=max_text_len, padding='post')\n",
    "\n",
    "y_tr_seq    =   tokenizer.texts_to_sequences(y_tr) \n",
    "y_val_seq   =   tokenizer.texts_to_sequences(y_val) \n",
    "\n",
    "#padding zero upto maximum length\n",
    "y_tr    =   pad_sequences(y_tr_seq, maxlen=max_summary_len, padding='post')\n",
    "y_val   =   pad_sequences(y_val_seq, maxlen=max_summary_len, padding='post')\n",
    "\n",
    "#size of vocabulary ( +1 for padding token)\n",
    "voc   =  len(tokenizer.word_index) + 1"
   ]
  },
  {
   "cell_type": "code",
   "execution_count": 22,
   "metadata": {
    "colab": {
     "base_uri": "https://localhost:8080/",
     "height": 34
    },
    "colab_type": "code",
    "id": "DCbGMsm4FxiA",
    "outputId": "e7818a8e-016c-439b-c63c-adb3be63d343"
   },
   "outputs": [
    {
     "data": {
      "text/plain": [
       "6436"
      ]
     },
     "execution_count": 22,
     "metadata": {
      "tags": []
     },
     "output_type": "execute_result"
    }
   ],
   "source": [
    "voc"
   ]
  },
  {
   "cell_type": "code",
   "execution_count": 23,
   "metadata": {
    "colab": {
     "base_uri": "https://localhost:8080/",
     "height": 34
    },
    "colab_type": "code",
    "id": "kaKi8gQ-qRwK",
    "outputId": "e130a297-3921-485f-fef3-06195403d771"
   },
   "outputs": [
    {
     "data": {
      "text/plain": [
       "(900, 70)"
      ]
     },
     "execution_count": 23,
     "metadata": {
      "tags": []
     },
     "output_type": "execute_result"
    }
   ],
   "source": [
    "x_tr.shape"
   ]
  },
  {
   "cell_type": "code",
   "execution_count": 24,
   "metadata": {
    "colab": {
     "base_uri": "https://localhost:8080/",
     "height": 660
    },
    "colab_type": "code",
    "id": "RGqcpQ9wI7cR",
    "outputId": "3deed09e-d491-4380-f931-24db954056c1"
   },
   "outputs": [
    {
     "name": "stderr",
     "output_type": "stream",
     "text": [
      "Using TensorFlow backend.\n"
     ]
    },
    {
     "name": "stdout",
     "output_type": "stream",
     "text": [
      "Model: \"model\"\n",
      "__________________________________________________________________________________________________\n",
      "Layer (type)                    Output Shape         Param #     Connected to                     \n",
      "==================================================================================================\n",
      "input_1 (InputLayer)            [(None, 70)]         0                                            \n",
      "__________________________________________________________________________________________________\n",
      "embedding (Embedding)           (None, 70, 900)      5792400     input_1[0][0]                    \n",
      "__________________________________________________________________________________________________\n",
      "input_2 (InputLayer)            [(None, None)]       0                                            \n",
      "__________________________________________________________________________________________________\n",
      "bidirectional (Bidirectional)   [(None, 70, 1800), ( 12967200    embedding[0][0]                  \n",
      "__________________________________________________________________________________________________\n",
      "embedding_1 (Embedding)         (None, None, 900)    5792400     input_2[0][0]                    \n",
      "__________________________________________________________________________________________________\n",
      "concatenate (Concatenate)       (None, 1800)         0           bidirectional[0][1]              \n",
      "                                                                 bidirectional[0][3]              \n",
      "__________________________________________________________________________________________________\n",
      "concatenate_1 (Concatenate)     (None, 1800)         0           bidirectional[0][2]              \n",
      "                                                                 bidirectional[0][4]              \n",
      "__________________________________________________________________________________________________\n",
      "lstm_2 (LSTM)                   [(None, None, 1800), 19447200    embedding_1[0][0]                \n",
      "                                                                 concatenate[0][0]                \n",
      "                                                                 concatenate_1[0][0]              \n",
      "__________________________________________________________________________________________________\n",
      "attention_layer (AttentionLayer ((None, None, 1800), 6481800     bidirectional[0][0]              \n",
      "                                                                 lstm_2[0][0]                     \n",
      "__________________________________________________________________________________________________\n",
      "concat_layer (Concatenate)      (None, None, 3600)   0           lstm_2[0][0]                     \n",
      "                                                                 attention_layer[0][0]            \n",
      "__________________________________________________________________________________________________\n",
      "time_distributed (TimeDistribut (None, None, 6436)   23176036    concat_layer[0][0]               \n",
      "==================================================================================================\n",
      "Total params: 73,657,036\n",
      "Trainable params: 73,657,036\n",
      "Non-trainable params: 0\n",
      "__________________________________________________________________________________________________\n"
     ]
    }
   ],
   "source": [
    "# Reference: https://stackoverflow.com/questions/50815354/seq2seq-bidirectional-encoder-decoder-in-keras\n",
    "\n",
    "from keras import backend as K \n",
    "K.clear_session() \n",
    "latent_dim = x_tr.shape[0]\n",
    "\n",
    "# Encoder \n",
    "encoder_inputs = Input(shape=(max_text_len,)) \n",
    "enc_emb = Embedding(voc, latent_dim,trainable=True)(encoder_inputs) \n",
    "\n",
    "forward_layer = LSTM(latent_dim, return_sequences=True, return_state=True)\n",
    "backward_layer = LSTM(latent_dim, return_sequences=True, return_state=True, go_backwards=True)\n",
    "\n",
    "bidirectional_lstm = Bidirectional(forward_layer, backward_layer=backward_layer)\n",
    "encoder_outputs, forward_h, forward_c, backward_h, backward_c = bidirectional_lstm(enc_emb)\n",
    "\n",
    "state_h = Concatenate()([forward_h, backward_h])\n",
    "state_c = Concatenate()([forward_c, backward_c])\n",
    "encoder_states = [state_h, state_c]\n",
    "\n",
    "# Set up the decoder. \n",
    "decoder_inputs = Input(shape=(None,)) \n",
    "dec_emb_layer = Embedding(voc, latent_dim, trainable=True) \n",
    "dec_emb = dec_emb_layer(decoder_inputs) \n",
    "\n",
    "#LSTM using encoder_states as initial state\n",
    "decoder_lstm = LSTM(latent_dim*2, return_sequences=True, return_state=True) \n",
    "decoder_outputs,decoder_fwd_state, decoder_back_state1 = decoder_lstm(dec_emb,initial_state=[state_h, state_c]) \n",
    "\n",
    "#Attention Layer\n",
    "attn_layer = AttentionLayer(name='attention_layer') \n",
    "attn_out, attn_states = attn_layer([encoder_outputs, decoder_outputs]) \n",
    "\n",
    "# Concat attention output and decoder LSTM output \n",
    "decoder_concat_input = Concatenate(axis=-1, name='concat_layer')([decoder_outputs, attn_out])\n",
    "\n",
    "#Dense layer\n",
    "decoder_dense = TimeDistributed(Dense(voc, activation='softmax')) \n",
    "decoder_outputs = decoder_dense(decoder_concat_input) \n",
    "\n",
    "# Define the model\n",
    "model = Model([encoder_inputs, decoder_inputs], decoder_outputs) \n",
    "model.summary()"
   ]
  },
  {
   "cell_type": "code",
   "execution_count": 25,
   "metadata": {
    "colab": {},
    "colab_type": "code",
    "id": "Lwfi1Fm8Fxiz"
   },
   "outputs": [],
   "source": [
    "model.compile(optimizer='adam', loss='sparse_categorical_crossentropy')"
   ]
  },
  {
   "cell_type": "code",
   "execution_count": 26,
   "metadata": {
    "colab": {
     "base_uri": "https://localhost:8080/",
     "height": 1000
    },
    "colab_type": "code",
    "id": "ETnPzA4OFxi3",
    "outputId": "d9a70071-bb31-4c95-d83a-6b30abb715bc"
   },
   "outputs": [
    {
     "name": "stdout",
     "output_type": "stream",
     "text": [
      "Epoch 1/30\n",
      "23/23 [==============================] - 20s 856ms/step - loss: 5.4016 - val_loss: 4.5559\n",
      "Epoch 2/30\n",
      "23/23 [==============================] - 18s 793ms/step - loss: 4.2019 - val_loss: 4.6280\n",
      "Epoch 3/30\n",
      "23/23 [==============================] - 18s 798ms/step - loss: 3.9888 - val_loss: 4.6542\n",
      "Epoch 4/30\n",
      "23/23 [==============================] - 18s 790ms/step - loss: 3.8372 - val_loss: 4.7636\n",
      "Epoch 5/30\n",
      "23/23 [==============================] - 18s 784ms/step - loss: 3.6600 - val_loss: 4.8111\n",
      "Epoch 6/30\n",
      "23/23 [==============================] - 18s 791ms/step - loss: 3.4265 - val_loss: 4.9461\n",
      "Epoch 7/30\n",
      "23/23 [==============================] - 18s 788ms/step - loss: 3.1680 - val_loss: 5.0609\n",
      "Epoch 8/30\n",
      "23/23 [==============================] - 18s 794ms/step - loss: 2.8327 - val_loss: 5.2758\n",
      "Epoch 9/30\n",
      "23/23 [==============================] - 18s 788ms/step - loss: 2.4554 - val_loss: 5.4826\n",
      "Epoch 10/30\n",
      "23/23 [==============================] - 18s 801ms/step - loss: 2.0304 - val_loss: 5.7044\n",
      "Epoch 11/30\n",
      "23/23 [==============================] - 18s 795ms/step - loss: 1.5952 - val_loss: 5.8954\n",
      "Epoch 12/30\n",
      "23/23 [==============================] - 18s 802ms/step - loss: 1.1601 - val_loss: 6.0565\n",
      "Epoch 13/30\n",
      "23/23 [==============================] - 18s 787ms/step - loss: 0.7836 - val_loss: 6.1771\n",
      "Epoch 14/30\n",
      "23/23 [==============================] - 18s 802ms/step - loss: 0.4852 - val_loss: 6.2823\n",
      "Epoch 15/30\n",
      "23/23 [==============================] - 18s 796ms/step - loss: 0.2765 - val_loss: 6.3754\n",
      "Epoch 16/30\n",
      "23/23 [==============================] - 18s 793ms/step - loss: 0.1476 - val_loss: 6.4303\n",
      "Epoch 17/30\n",
      "23/23 [==============================] - 18s 801ms/step - loss: 0.0761 - val_loss: 6.4854\n",
      "Epoch 18/30\n",
      "23/23 [==============================] - 18s 794ms/step - loss: 0.0433 - val_loss: 6.5286\n",
      "Epoch 19/30\n",
      "23/23 [==============================] - 18s 790ms/step - loss: 0.0270 - val_loss: 6.5309\n",
      "Epoch 20/30\n",
      "23/23 [==============================] - 18s 787ms/step - loss: 0.0181 - val_loss: 6.5669\n",
      "Epoch 21/30\n",
      "23/23 [==============================] - 18s 791ms/step - loss: 0.0130 - val_loss: 6.5924\n",
      "Epoch 22/30\n",
      "23/23 [==============================] - 18s 801ms/step - loss: 0.0108 - val_loss: 6.6109\n",
      "Epoch 23/30\n",
      "23/23 [==============================] - 18s 798ms/step - loss: 0.0085 - val_loss: 6.6322\n",
      "Epoch 24/30\n",
      "23/23 [==============================] - 18s 790ms/step - loss: 0.0102 - val_loss: 6.6469\n",
      "Epoch 25/30\n",
      "23/23 [==============================] - 18s 796ms/step - loss: 0.0114 - val_loss: 6.6540\n",
      "Epoch 26/30\n",
      "23/23 [==============================] - 18s 789ms/step - loss: 0.0081 - val_loss: 6.6580\n",
      "Epoch 27/30\n",
      "23/23 [==============================] - 18s 792ms/step - loss: 0.0062 - val_loss: 6.6707\n",
      "Epoch 28/30\n",
      "23/23 [==============================] - 18s 802ms/step - loss: 0.0055 - val_loss: 6.6899\n",
      "Epoch 29/30\n",
      "23/23 [==============================] - 18s 798ms/step - loss: 0.0050 - val_loss: 6.7021\n",
      "Epoch 30/30\n",
      "23/23 [==============================] - 18s 791ms/step - loss: 0.0045 - val_loss: 6.7158\n"
     ]
    }
   ],
   "source": [
    "history=model.fit([x_tr,y_tr[:,:-1]], y_tr.reshape(y_tr.shape[0],y_tr.shape[1], 1)[:,1:] ,epochs=30, validation_split=0.2)"
   ]
  },
  {
   "cell_type": "code",
   "execution_count": 27,
   "metadata": {
    "colab": {},
    "colab_type": "code",
    "id": "z331DhacA2uC"
   },
   "outputs": [],
   "source": [
    "model.save(\"Giga_model_1.h5\", save_format=\"h5\")"
   ]
  },
  {
   "cell_type": "code",
   "execution_count": 28,
   "metadata": {
    "colab": {
     "base_uri": "https://localhost:8080/",
     "height": 268
    },
    "colab_type": "code",
    "id": "tDTNLAURFxjE",
    "outputId": "c3f5c0b4-e5f6-43ee-ed63-a45607f0f3d1"
   },
   "outputs": [
    {
     "data": {
      "image/png": "[encoded data removed]",
      "text/plain": [
       "<Figure size 432x288 with 1 Axes>"
      ]
     },
     "metadata": {
      "needs_background": "light",
      "tags": []
     },
     "output_type": "display_data"
    }
   ],
   "source": [
    "from matplotlib import pyplot\n",
    "pyplot.plot(history.history['loss'], label='train')\n",
    "pyplot.plot(history.history['val_loss'], label='test')\n",
    "pyplot.legend()\n",
    "pyplot.show()"
   ]
  },
  {
   "cell_type": "code",
   "execution_count": 29,
   "metadata": {
    "colab": {},
    "colab_type": "code",
    "id": "sBX0zZnOFxjW"
   },
   "outputs": [],
   "source": [
    "reverse_word_index=tokenizer.index_word\n",
    "word_index=tokenizer.word_index"
   ]
  },
  {
   "cell_type": "code",
   "execution_count": 30,
   "metadata": {
    "colab": {},
    "colab_type": "code",
    "id": "9QkrNV-4Fxjt"
   },
   "outputs": [],
   "source": [
    "# Reference: https://www.analyticsvidhya.com/blog/2019/06/comprehensive-guide-text-summarization-using-deep-learning-python/\n",
    "\n",
    "# Encode the input sequence to get the feature vector\n",
    "encoder_model = Model(inputs=encoder_inputs,outputs=[encoder_outputs, state_h, state_c])\n",
    "\n",
    "# Decoder setup\n",
    "# Below tensors will hold the states of the previous time step\n",
    "decoder_state_input_h = Input(shape=(latent_dim*2,))\n",
    "decoder_state_input_c = Input(shape=(latent_dim*2,))\n",
    "decoder_hidden_state_input = Input(shape=(max_text_len,latent_dim*2))\n",
    "\n",
    "# Get the embeddings of the decoder sequence\n",
    "dec_emb2= dec_emb_layer(decoder_inputs) \n",
    "# To predict the next word in the sequence, set the initial states to the states from the previous time step\n",
    "decoder_outputs2, state_h2, state_c2 = decoder_lstm(dec_emb2, initial_state=[decoder_state_input_h, decoder_state_input_c])\n",
    "\n",
    "#attention inference\n",
    "attn_out_inf, attn_states_inf = attn_layer([decoder_hidden_state_input, decoder_outputs2])\n",
    "decoder_inf_concat = Concatenate(axis=-1, name='concat')([decoder_outputs2, attn_out_inf])\n",
    "\n",
    "# A dense softmax layer to generate prob dist. over the target vocabulary\n",
    "decoder_outputs2 = decoder_dense(decoder_inf_concat) \n",
    "\n",
    "# Final decoder model\n",
    "decoder_model = Model(\n",
    "    [decoder_inputs] + [decoder_hidden_state_input,decoder_state_input_h, decoder_state_input_c],\n",
    "    [decoder_outputs2] + [state_h2, state_c2])"
   ]
  },
  {
   "cell_type": "code",
   "execution_count": 31,
   "metadata": {
    "colab": {},
    "colab_type": "code",
    "id": "6f6TTFnBFxj6"
   },
   "outputs": [],
   "source": [
    "def decode_sequence(input_seq):\n",
    "    # Encode the input as state vectors.\n",
    "    e_out, e_h, e_c = encoder_model.predict(input_seq)\n",
    "    \n",
    "    # Generate empty target sequence of length 1.\n",
    "    target_seq = np.zeros((1,1))\n",
    "    \n",
    "    # Populate the first word of target sequence with the start word.\n",
    "    target_seq[0, 0] = word_index['sostok']\n",
    "\n",
    "    stop_condition = False\n",
    "    decoded_sentence = ''\n",
    "    while not stop_condition:\n",
    "      \n",
    "        output_tokens, h, c = decoder_model.predict([target_seq] + [e_out, e_h, e_c])\n",
    "\n",
    "        # Sample a token\n",
    "        sampled_token_index = np.argmax(output_tokens[0, -1, :])\n",
    "        \n",
    "        try:\n",
    "            sampled_token = reverse_word_index[sampled_token_index]\n",
    "        except KeyError as e:\n",
    "            sampled_token = 'unk'\n",
    "        \n",
    "        if(sampled_token!='eostok'):\n",
    "            decoded_sentence += ' '+sampled_token\n",
    "\n",
    "        # Exit condition: either hit max length or find stop word.\n",
    "        if (sampled_token == 'eostok'  or len(decoded_sentence.split()) >= (max_summary_len-1)):\n",
    "            stop_condition = True\n",
    "\n",
    "        # Update the target sequence (of length 1).\n",
    "        target_seq = np.zeros((1,1))\n",
    "        target_seq[0, 0] = sampled_token_index\n",
    "\n",
    "        # Update internal states\n",
    "        e_h, e_c = h, c\n",
    "\n",
    "    return decoded_sentence"
   ]
  },
  {
   "cell_type": "code",
   "execution_count": 32,
   "metadata": {
    "colab": {},
    "colab_type": "code",
    "id": "aAUntznIFxj9"
   },
   "outputs": [],
   "source": [
    "def seq2summary(input_seq):\n",
    "    newString=''\n",
    "    for i in input_seq:\n",
    "        if((i!=0 and i!=word_index['sostok']) and i!=word_index['eostok']):\n",
    "            try:\n",
    "                newString=newString+reverse_word_index[i]+' '\n",
    "            except KeyError:\n",
    "                newString=newString+'unk '\n",
    "    return newString\n",
    "\n",
    "def seq2text(input_seq):\n",
    "    newString=''\n",
    "    for i in input_seq:\n",
    "        if(i!=0):\n",
    "            try:\n",
    "                newString=newString+reverse_word_index[i]+' '\n",
    "            except KeyError:\n",
    "                newString=newString+'unk '\n",
    "    return newString"
   ]
  },
  {
   "cell_type": "code",
   "execution_count": 33,
   "metadata": {
    "colab": {
     "base_uri": "https://localhost:8080/",
     "height": 1000
    },
    "colab_type": "code",
    "id": "BUtQmQTmFxkI",
    "outputId": "4e6aa288-a7ca-461e-f2c4-25328de351db"
   },
   "outputs": [
    {
     "name": "stdout",
     "output_type": "stream",
     "text": [
      "Review: us defense secretary robert gates has asked nato allies and colleagues for more effort in afghanistan but it is too early to tell whether his will pay off \n",
      "Original summary: whether gates drive for more help in afghanistan will \n",
      "Predicted summary:  british pm vows to hold second referendum on eu treaty\n",
      "\n",
      "\n",
      "Review: a court ruled friday that a strike by greek over tax breaks was illegal and an abuse of their position as the agreed to step up their action \n",
      "Original summary: court declares greek strike illegal \n",
      "Predicted summary:  eu president to mediate crisis between venezuela colombia\n",
      "\n",
      "\n",
      "Review: the owner of boston center is expected to lose more than half of the of prime property it has slated for after the hall goes on the auction block thursday \n",
      "Original summary: auction threatens development \n",
      "Predicted summary:  composition of seats in new spanish parliament\n",
      "\n",
      "\n",
      "Review: a former communications international inc chief financial officer pleaded guilty thursday to a single count of insider trading becoming the officer to to in a scandal that forced the company to of dollars in revenue \n",
      "Original summary: former of phone company pleads guilty to insider trading \n",
      "Predicted summary:  former bush speechwriter launches campaign\n",
      "\n",
      "\n",
      "Review: people with may have an risk of heart attacks doctors have found in yet another analysis that the skin is complex \n",
      "Original summary: study finds link between heart problems \n",
      "Predicted summary:  british soldier killed in traffic accident in southern iraq\n",
      "\n",
      "\n",
      "Review: the white house said thursday that a second un security council resolution on iraq military action to disarm baghdad was a \n",
      "Original summary: white house says second iraq resolution possible \n",
      "Predicted summary:  us insists from listing hamas as terrorist organization\n",
      "\n",
      "\n",
      "Review: scott was given a letter of monday as punishment for the collision that killed nine people aboard a japanese his attorney said \n",
      "Original summary: sub gets letter of \n",
      "Predicted summary:  air yugoslavia nato extends air cover to remaining bosnian safe areas\n",
      "\n",
      "\n",
      "Review: a small band of democratic lawmakers thursday to the results of the presidential election in ohio an debate where democrats pleaded for an overhaul of election laws and accused them of seeking to the will of the people \n",
      "Original summary: democrats challenge ohio electoral vote count \n",
      "Predicted summary:  no place in russia for chechens who look to kazakhstan\n",
      "\n",
      "\n",
      "Review: an egyptian rights group called on the government saturday to free more than detainees up after october bombings of which killed people and wounded \n",
      "Original summary: egypt rights group urges release of thousands up after blasts \n",
      "Predicted summary:  training plane crashes into sea near malaysian island\n",
      "\n",
      "\n",
      "Review: scored four against in its away game against vietnam in city on sunday in the world cup asian zone group eight qualifying tournament \n",
      "Original summary: beats vietnam in world cup qualifier \n",
      "Predicted summary:  with summary of late news from the associated press\n",
      "\n",
      "\n",
      "Review: thousands of hamas supporters through the streets here monday firing shots in the air on the third day of protests after a palestinian police crackdown on the \n",
      "Original summary: thousands take to gaza streets on third day of protests \n",
      "Predicted summary:  indonesian government minister to visit percent in london\n",
      "\n",
      "\n",
      "Review: the european union executive arm said wednesday it was some staff from baghdad after the bombing of the un office a move which believe could delay eu plans to fund reconstruction in iraq \n",
      "Original summary: eu recalls staff in baghdad after bombing of un office \n",
      "Predicted summary:  trial says recovery from katrina will take years\n",
      "\n",
      "\n",
      "Review: republican presidential candidate steve visited the home of law friday for a private meeting with the leader of millions of new england catholics \n",
      "Original summary: law \n",
      "Predicted summary:  london underground staff to strike\n",
      "\n",
      "\n",
      "Review: striker had a blocked after being hospitalized on tuesday \n",
      "Original summary: hospitalized for problem \n",
      "Predicted summary:  comes to the rescue\n",
      "\n",
      "\n",
      "Review: the palace along north said it all pistons vs jordan \n",
      "Original summary: jordan still a \n",
      "Predicted summary:  moyer reaches wins\n",
      "\n",
      "\n",
      "Review: a woman witness tuesday from behind a and her to protect her identity told of and abuse at the hands of saddam hussein in the trial of the former president and seven lieutenants \n",
      "Original summary: woman witness as she recalls torture \n",
      "Predicted summary:  new teen charged with stabbing newborn times infant s body found in trash\n",
      "\n",
      "\n",
      "Review: suspected militants were killed by a missile strike in pakistan troubled tribal belt hours after gunmen held children hostage at a school officials said tuesday \n",
      "Original summary: pakistan missile strike kills in new violence \n",
      "Predicted summary:  two germans abducted in east nigeria\n",
      "\n",
      "\n",
      "Review: the egyptian beat the american on friday which is not the way the on a tennis court \n",
      "Original summary: tennis unit puts third world first \n",
      "Predicted summary:  macedonian president visits canada\n",
      "\n",
      "\n",
      "Review: syrian president accused israel of the peace process between the two countries and called on the united states to its diplomatic efforts to an agreement \n",
      "Original summary: syrian president accuses israel of peace process \n",
      "Predicted summary:  london islamist prisoners end hunger strike\n",
      "\n",
      "\n",
      "Review: of american women with children and percent of those with less than a year old are in the labor force but toward working have far behind the reality \n",
      "Original summary: toward working moms lag behind reality survey finds \n",
      "Predicted summary:  dlrs million from nfl and union among contributions for victims\n",
      "\n",
      "\n",
      "Review: a total of senior officials of peru national police including almost half of all on the force will be forced into early retirement interior minister announced saturday \n",
      "Original summary: almost police officials forced into retirement \n",
      "Predicted summary:  taiwan president split on expansion summit date\n",
      "\n",
      "\n",
      "Review: a school bus collided with a truck and over on a highway northwest of toronto on wednesday seriously injuring several elementary school children on a field trip officials said \n",
      "Original summary: school bus roll over leaves girl critically injured five others serious \n",
      "Predicted summary:  kurds returned to syria\n",
      "\n",
      "\n",
      "Review: alexandria the prosecution may have in the trial of but legal experts say one more witness still could a major to the government case \n",
      "Original summary: case most witness may be himself \n",
      "Predicted summary:  jordan islamist prisoners end hunger strike\n",
      "\n",
      "\n",
      "Review: an nown islamic armed group claimed responsibility monday for the sunday attack carried out on an israeli post in the southern gaza strip town of which wounded four israeli soldiers \n",
      "Original summary: nown islamic group claims responsibility for wounding israeli soldiers \n",
      "Predicted summary:  serbia prepares to hand out million voter cards\n",
      "\n",
      "\n",
      "Review: broke out tuesday when israeli soldiers the palestinian agriculture minister and other from jewish settlers a palestinian farm \n",
      "Original summary: soldiers stop palestinian protest against jewish settler \n",
      "Predicted summary:  british recognizes better minor can players suspended for doping\n",
      "\n",
      "\n",
      "Review: visa inc shares soared more than percent in their stock market debut wednesday as investors on to the largest initial public offering in us history \n",
      "Original summary: visa shares soar more than percent in stock market debut \n",
      "Predicted summary:  deutsche lower stock up more shanghai\n",
      "\n",
      "\n",
      "Review: of the by the london bombings was shown in public for the first time tuesday at the into the deaths of passengers \n",
      "Original summary: grisly london bombings video shown to \n",
      "Predicted summary:  london shares tumble on dull wall street stocks\n",
      "\n",
      "\n",
      "Review: leaders worldwide wednesday assassination of serbian prime minister their at the of a leader who helped bring democratic reforms to his country \n",
      "Original summary: leaders worldwide express over assassination of serbian prime minister \n",
      "Predicted summary:  police brace in sri invitation\n",
      "\n",
      "\n",
      "Review: goalkeeper was recalled on friday to finland squad for next month euro group nine qualifiers at home against serbia and montenegro and italy \n",
      "Original summary: finland name squad for euro qualifiers \n",
      "Predicted summary:  samoa makes move to team for scotland\n",
      "\n",
      "\n",
      "Review: five people were killed and a woman wounded following a shootout at a in colombia third largest city local authorities said monday \n",
      "Original summary: colombian shootout leaves five dead \n",
      "Predicted summary:  killed in pakistan road accident\n",
      "\n",
      "\n",
      "Review: the palestinian ambassador in ankara said that economic aid by foreign donor countries have not been \n",
      "Original summary: palestinian envoy urges donor countries to their \n",
      "Predicted summary:  xinhua summary of stocks news on tuesday jan\n",
      "\n",
      "\n",
      "Review: secretary of state condoleezza rice said sunday that us and russian officials worked over the weekend on how best to oppose iran nuclear program \n",
      "Original summary: rice says us and russia discussing iran nuclear program \n",
      "Predicted summary:  fitch ratings gives more optimistic forecast for taiwan banks\n",
      "\n",
      "\n",
      "Review: nearly half of the nation air traffic controllers will reach the mandatory retirement age in the next decade according to government estimates the federal aviation administration to its current rate of and training at a time when air traffic is expected to grow \n",
      "Original summary: retirement shortage of air traffic controllers \n",
      "Predicted summary:  long road to oil cleanup looms over gulf coast\n",
      "\n",
      "\n",
      "Review: the italian authorities must support chinese immigrants integration in the european country chinese ambassador to italy sun said at a press conference here on friday \n",
      "Original summary: italian authorities urged to support chinese immigrants integration \n",
      "Predicted summary:  china gets legislation for heroin\n",
      "\n",
      "\n",
      "Review: texas public commissioner or his staff met with executives on at least over two years according to documents released tuesday by a consumer group \n",
      "Original summary: consumer wants to up conflict of interest laws \n",
      "Predicted summary:  rugby makes move to get back into olympics\n",
      "\n",
      "\n",
      "Review: three more bodies were found sunday in the ocean near the spot where an air france jet is believed to have crashed a week ago bringing the total number of bodies from the water to five brazil military said \n",
      "Original summary: brazil recovers more bodies near jet crash site \n",
      "Predicted summary:  new seniors sales plunge factory orders weakest in three months\n",
      "\n",
      "\n",
      "Review: west new owners hope to move the club into the london olympic stadium after taking control of the premier league from icelandic bank \n",
      "Original summary: half of west sold to former owners \n",
      "Predicted summary:  australia fourth or fifth in world swimming says perkins\n",
      "\n",
      "\n",
      "Review: palestinian militants fired three rounds at the jewish settlement of in the southern gaza strip tuesday night without an army spokesman said \n",
      "Original summary: fired at jewish settlement in gaza \n",
      "Predicted summary:  van horn plays well in return\n",
      "\n",
      "\n",
      "Review: france government shifted into high gear wednesday to counter the growing camp of those ready to cast no in a may referendum on the european constitution \n",
      "Original summary: government boosts campaign on eu constitution referendum as polls show no vote could win \n",
      "Predicted summary:  thai un leader makes not talks\n",
      "\n",
      "\n",
      "Review: of the thousands of from the world trade center disaster children and credit cards and the families who come to the property at police headquarters are most in search of one symbols of \n",
      "Original summary: from rubble \n",
      "Predicted summary:  taiwan s army honor guard investigated for threat against president\n",
      "\n",
      "\n",
      "Review: european scientists said monday that they are examining an of the mars taken moments after it was off from its that also shows an \n",
      "Original summary: scientists images of as they search for \n",
      "Predicted summary:  insurance sites are closing the sale\n",
      "\n",
      "\n",
      "Review: chinese share prices closed percent higher tuesday on hunting after losses monday as chemical firms and internet companies found some support dealers said \n",
      "Original summary: chinese shares close percent higher \n",
      "Predicted summary:  china mixed to protect ethnic minority culture\n",
      "\n",
      "\n",
      "Review: the of african football began sunday a inspection tour of to be used for next year african nations cup finals in egypt africa football governing body said in a statement published at its \n",
      "Original summary: egypt for african cup \n",
      "Predicted summary:  nato members suspending enlargement program\n",
      "\n",
      "\n",
      "Review: nine out of the vietnamese fishermen by the provincial police in indonesia province for poaching fish last month were deported to their country via jakarta on friday night \n",
      "Original summary: vietnamese fishermen deported from indonesia \n",
      "Predicted summary:  australia fourth or fifth in world swimming says perkins\n",
      "\n",
      "\n",
      "Review: the murder widespread debate in especially after a young british woman accused of killing an infant in her charge was freed by a judge after being convicted of murder \n",
      "Original summary: boston media minutes for report \n",
      "Predicted summary:  students urges says it is resuming repatriation of us remains\n",
      "\n",
      "\n",
      "Review: education officials in of china may earthquake are pressing neighboring school authorities to accept more of the students who still have no place to resume their \n",
      "Original summary: students in find no place to study \n",
      "Predicted summary:  bears of islamists mark anniversary of pakistan s crackdown on radical red mosque\n",
      "\n",
      "\n",
      "Review: the judge trying a syrian lawmaker arrested in a recent government crackdown against ordered out of his wednesday before he adjourned until nov \n",
      "Original summary: trial of syrian dissident adjourned judge orders out of \n",
      "Predicted summary:  british soldier says off protection in macao sar\n",
      "\n",
      "\n",
      "Review: these stories are moving today to clients of the new york times news service \n",
      "Original summary: cox news service budget \n",
      "Predicted summary:  spanish health ministry confirms new cases of flu\n",
      "\n",
      "\n",
      "Review: of the by the great wall here tuesday received the award for arts sponsorship \n",
      "Original summary: another chinese artist given award \n",
      "Predicted summary:  ponting named as waugh successor for australian team\n",
      "\n",
      "\n",
      "Review: president has said that his government would not those who establish private universities with the intention to \n",
      "Original summary: president warns against robbery \n",
      "Predicted summary:  hargreaves gets match action for manchester united\n",
      "\n",
      "\n",
      "Review: prices on all sold at the beijing capital international airport will be cut by percent to percent on average by the end of this month said a manager of the airport trading company \n",
      "Original summary: beijing airport aims to bring food prices down to earth \n",
      "Predicted summary:  massachusetts hopes deposit in argentina\n",
      "\n",
      "\n",
      "Review: a spanish judge people on tuesday in connection with the madrid train bombings two years ago suggesting that the group attacked spain for its support of the invasion of iraq and for its increasingly aggressive police of islamic radical groups \n",
      "Original summary: are in connection with madrid train bombings \n",
      "Predicted summary:  iraq defends iraq\n",
      "\n",
      "\n",
      "Review: three british soldiers were wounded in an explosion monday in southern afghanistan the ministry of defense in london said tuesday \n",
      "Original summary: three british soldiers wounded in afghanistan explosion \n",
      "Predicted summary:  killed in plane crash in northern sri lanka\n",
      "\n",
      "\n",
      "Review: president barack obama agreed wednesday to share us nuclear power technology with the united arab emirates giving his to a deal signed in the final days of george w bush administration \n",
      "Original summary: obama oks nuclear deal with united arab emirates \n",
      "Predicted summary:  zimbabwe states reported into south korea reported after taiwan\n",
      "\n",
      "\n",
      "Review: iraq on tuesday said it welcomes the report to the us congress of general david petraeus and the top american officials in baghdad \n",
      "Original summary: iraq welcomes us report to congress \n",
      "Predicted summary:  mexican top legislator urges parliamentary exchanges\n",
      "\n",
      "\n",
      "Review: the have down on the overly political of and executives and journalists are asking themselves whether the of network coverage is doomed \n",
      "Original summary: few for the death of the network \n",
      "Predicted summary:  brazilians oppose bill forbidding spanking of kids\n",
      "\n",
      "\n",
      "Review: cambodia minister of information has delivered a defense of his country democracy which has been attacked recently as increasingly and crumbling in the international press \n",
      "Original summary: information minister delivers defense of cambodian democracy \n",
      "Predicted summary:  mexican states recalls elections optimistic peace peace rebel rebel chief from testify\n",
      "\n",
      "\n",
      "Review: argentina on tuesday denied its commercial ties with iran due to an old diplomatic dispute between the two countries \n",
      "Original summary: argentina denies suspending commercial ties with iran \n",
      "Predicted summary:  british top controllers strike can peace peace\n",
      "\n",
      "\n",
      "Review: un ban moon on thursday the deadly bomb attacks on a convoy of former pakistani prime minister in the southern port city of \n",
      "Original summary: un chief deadly bomb attacks in pakistan \n",
      "Predicted summary:  precede jakarta helicopter locates bodies after indonesian ship sinking\n",
      "\n",
      "\n",
      "Review: president barack obama administration has moved to rumors that troubled us banks will be as the shares of financial took another in the market \n",
      "Original summary: us moves to bank rumors \n",
      "Predicted summary:  us georgia urges end to baseball strike\n",
      "\n",
      "\n",
      "Review: relatives and colleagues of two european journalists detained in northern with their american guide and four nationals have set up a support committee and called on authorities to release them \n",
      "Original summary: families friends create support committee for detained journalists in \n",
      "Predicted summary:  thousands of tajik refugees from afghanistan return to homeland\n",
      "\n",
      "\n",
      "Review: china petrochemical corp group is expected to see its profits more than double this year china daily reported thursday \n",
      "Original summary: sees profits \n",
      "Predicted summary:  china champion fined for contempt\n",
      "\n",
      "\n",
      "Review: just a week before his death richard and his sent a letter to an indiana sheriff about an animal case \n",
      "Original summary: richard sent letter to sheriff before his death \n",
      "Predicted summary:  germany gets match end for peace strike\n",
      "\n",
      "\n",
      "Review: according to the us army sgt charles robert told the men in his he was going to check out a noise in the early morning near the demilitarized zone between north and south korea in january \n",
      "Original summary: after decades in isolated north korea suspected us remains \n",
      "Predicted summary:  syrian protest falls in hmo murder\n",
      "\n",
      "\n",
      "Review: the national teams of and italy already are in peru to in the youth world cup of the that will be held in five of the country from september to october \n",
      "Original summary: and italy the first teams to arrive in peru for youth world cup \n",
      "Predicted summary:  indonesian national prisoners announces new high tells flu\n",
      "\n",
      "\n",
      "Review: bulgaria transport ministry said thursday it has deprived four cargo carriers of the and banned another from flying to the european union for failing to meet eu security requirements \n",
      "Original summary: bulgaria four cargo carriers bars another from eu flights \n",
      "Predicted summary:  kurds returned to syria\n",
      "\n",
      "\n",
      "Review: britain on wednesday unveiled its latest bid to break the european union budget deadlock by a small increase in the of the budget \n",
      "Original summary: britain unveils revised eu budget plan \n",
      "Predicted summary:  indonesia on track on decathlon at us olympic trials\n",
      "\n",
      "\n",
      "Review: irish pop star and activist called tuesday for african media and civil society organizations to ensure that debt relief money does end up in politicians \n",
      "Original summary: says african media civil society need to help safeguard debt relief money \n",
      "Predicted summary:  venezuelan authorities detain two british citizens one nigerian in drug bust\n",
      "\n",
      "\n",
      "Review: the us justice department to block the of north health systems and long island jewish medical center saying the of the two new york hospitals would lead to higher prices for long \n",
      "Original summary: long island hospital faces justice department suit \n",
      "Predicted summary:  new film downplays fails to get crisis\n",
      "\n",
      "\n",
      "Review: as turkey vowed to keep troops in northern iraq until out turkish kurdish rebels there an iraqi kurdish said sunday it was also the rebels \n",
      "Original summary: iraqi kurds battle turkish kurdish rebels as turkey vows to \n",
      "Predicted summary:  tensions as alliance chief visits georgia\n",
      "\n",
      "\n",
      "Review: the chief us envoy at north korean nuclear negotiations met for several hours tuesday with his north korean counterpart in germany but no date was to resume talks meant to rid the north of its nuclear weapons the state department said \n",
      "Original summary: us and north korea meet in germany can not settle resumption date \n",
      "Predicted summary:  us congress vows to continue aid palestinian in indonesia\n",
      "\n",
      "\n",
      "Review: days after one independent candidate from the race in washington another emerged on tuesday to challenge marion s the democratic in november \n",
      "Original summary: rights official joins race \n",
      "Predicted summary:  huckabee wins tight race in georgia primary\n",
      "\n",
      "\n",
      "Review: it was last wednesday that chris a venture discovered that his baby was a like him \n",
      "Original summary: baby wins million lottery \n",
      "Predicted summary:  spain go in strike\n",
      "\n",
      "\n",
      "Review: and cuts mixed with as the rock and roll hall of fame opened its to honor p rock first generation along with tom former teen lee and \n",
      "Original summary: tom lee and new york p \n",
      "Predicted summary:  dalai lama cancels trip to belgium\n",
      "\n",
      "\n",
      "Review: england midfielder is preparing for a return to action for manchester united next week following an injury \n",
      "Original summary: midfielder eyes return to united action \n",
      "Predicted summary:  beach volleyball is looking for an identity\n",
      "\n",
      "\n",
      "Review: the jordanian customs seized of sunday at the jordanian border point iraq local al newspaper reported monday \n",
      "Original summary: drug seized on borders \n",
      "Predicted summary:  brazilians oppose distribution restrictions on arabic daily\n",
      "\n",
      "\n",
      "Review: pakistan announced saturday it would join two international aimed at global terrorism in a move it said proved the high it was giving to the problem \n",
      "Original summary: pakistan to join to two \n",
      "Predicted summary:  thousands of islamists mark anniversary of pakistan s crackdown on radical red mosque\n",
      "\n",
      "\n",
      "Review: a director of corp said wednesday he hopes that radio host don is fired for his remarks about black women as key companies announced they had pulled their advertising from the show \n",
      "Original summary: director hopes don will be fired for comments about black women \n",
      "Predicted summary:  chinese diplomat at un information work\n",
      "\n",
      "\n",
      "Review: italian politician a key ally of premier silvio berlusconi made his official return to the political scene on monday months after he suffered a \n",
      "Original summary: italian politician back on political scene after suffering \n",
      "Predicted summary:  mexican court sentences four to death for corruption\n",
      "\n",
      "\n",
      "Review: a has been created by israeli scientists at the institute of science to track signaling inside a according to the latest issue of science to be published here friday \n",
      "Original summary: in israel to \n",
      "Predicted summary:  encourages rebel leader makes threats\n",
      "\n",
      "\n",
      "Review: treasury secretary robert said friday he expects the us economy to grow at a solid pace in with little inflation \n",
      "Original summary: sees solid growth in \n",
      "Predicted summary:  cox news service commentary budget\n",
      "\n",
      "\n",
      "Review: dr jones who helped develop the program that led to america first baby has died \n",
      "Original summary: jones of dies at \n",
      "Predicted summary:  star wins lead four to street pressure\n",
      "\n",
      "\n",
      "Review: rival groups battled with on sunday during voting in india state killing at least people officials said \n",
      "Original summary: dead in india poll violence \n",
      "Predicted summary:  a sang wins vietnam chinese chess title\n",
      "\n",
      "\n",
      "Review: brazilian soccer star won the fifa women world player of the year award for the fourth time in a row in of switzerland on monday \n",
      "Original summary: wins fourth women player of the year \n",
      "Predicted summary:  greipel wins stage of tour down under\n",
      "\n",
      "\n",
      "Review: indonesia foreign exchange reserves rose million us dollars to billion us dollars in the week ending september the news agency tuesday bank indonesia statement as reporting \n",
      "Original summary: indonesia foreign exchange reserves rise \n",
      "Predicted summary:  us states grants palestinians million dollars in aid\n",
      "\n",
      "\n",
      "Review: a us activist freed by myanmar returned home friday to be with his and called for the military regime to release thousands more prisoners \n",
      "Original summary: activist freed in burma returns to us \n",
      "Predicted summary:  russian pilgrims begin walk across russia\n",
      "\n",
      "\n",
      "Review: a federal police colonel who a prison uprising by killing inmates was found a police spokesman said monday \n",
      "Original summary: brazilian colonel who led prison massacre found \n",
      "Predicted summary:  hargreaves police match action for manchester united\n",
      "\n",
      "\n",
      "Review: opposition won a victory at the opening of parliament getting its candidate elected speaker tuesday and prepared to show its power on the streets with nationwide \n",
      "Original summary: kenyan parliament meeting for first time since violence opposition as speaker \n",
      "Predicted summary:  vietnam soccer la into olympic work\n",
      "\n",
      "\n",
      "Review: add march madness to the of technology managers those computer experts only when goes or a pc a day work \n",
      "Original summary: watching basketball at work is a technical foul \n",
      "Predicted summary:  microsoft will start advertising on tv\n",
      "\n",
      "\n",
      "Review: burns was up to minutes on the sunday when it first to him he was tired \n",
      "Original summary: burns mind running on solution \n",
      "Predicted summary:  former trojan tatupu sizing up in seattle\n",
      "\n",
      "\n",
      "Review: david would be to make a return as united manager just under a year after he was sacked the admitted on tuesday \n",
      "Original summary: on quick return to \n",
      "Predicted summary:  indonesia to pledges with aussie open scrutiny says sister\n",
      "\n",
      "\n",
      "Review: construction has begun on a pipeline to carry gas to iran from a field on sea coast russian news agencies reported friday \n",
      "Original summary: construction begins on gas pipeline \n",
      "Predicted summary:  china eu uncovers out to be president\n",
      "\n",
      "\n",
      "Review: tens of thousands of palestinians took to the streets of west bank monday after israel hamas sheikh ahmed in a gaza city helicopter strike \n",
      "Original summary: palestinians street in vows for killing \n",
      "Predicted summary:  thai pilgrims begin walk across russia\n",
      "\n",
      "\n",
      "Review: people were injured including two seriously when a bomb exploded outside a police station saturday night in eastern turkey a report said \n",
      "Original summary: blast in turkey \n",
      "Predicted summary:  two home secretary confirms four explosions in central london\n",
      "\n",
      "\n",
      "Review: jimmy lee smith the criminal whose role in the and killing of a police officer crime the field has died in jail at age a state official said \n",
      "Original summary: field jimmy lee smith dies in us jail at \n",
      "Predicted summary:  macedonia of islamists mark anniversary of pakistan s crackdown on radical red mosque\n",
      "\n",
      "\n",
      "Review: palestinian president mahmoud abbas government decided monday to hold municipal elections in the west bank in july the first voting since abbas movement was by the militant islamic hamas in national polls four years ago \n",
      "Original summary: west bank to hold municipal elections july \n",
      "Predicted summary:  sweden urges russian recognition of georgian regions\n",
      "\n",
      "\n",
      "Review: the sale of passports by several caribbean nations comes under renewed scrutiny with the us embassy to a family of traveling on passports \n",
      "Original summary: seven who bought passports travel to seeking us but leave \n",
      "Predicted summary:  dan on track in decathlon at us olympic trials\n",
      "\n",
      "\n",
      "Review: south african authorities on wednesday evening an appeal against the of bail in london to a uk accused of to murder his near town \n",
      "Original summary: south africa bail for suspect in uk \n",
      "Predicted summary:  zuma with pledges to be president for all indonesians\n",
      "\n",
      "\n",
      "Review: malaysian share prices closed percent lower wednesday on late selling by institutional funds with operator leading the decline dealers said \n",
      "Original summary: malaysian shares close percent lower \n",
      "Predicted summary:  taipei shares end percent firmer\n",
      "\n",
      "\n",
      "Review: in an effort to revive its the communist party has introduced a list of what its members are not allowed to do local press reported thursday \n",
      "Original summary: regulations list for party members \n",
      "Predicted summary:  indonesian opposition rebel leader optimistic on peace talks\n",
      "\n",
      "\n"
     ]
    }
   ],
   "source": [
    "original = []\n",
    "created = []\n",
    "\n",
    "for i in range(0,x_val.shape[0]):\n",
    "    print(\"Review:\",seq2text(x_val[i]))\n",
    "    print(\"Original summary:\",seq2summary(y_val[i]))\n",
    "    original.append(str(seq2summary(y_val[i])))\n",
    "\n",
    "    print(\"Predicted summary:\",decode_sequence(x_val[i].reshape(1,max_text_len)))\n",
    "    created.append(str(decode_sequence(x_val[i].reshape(1,max_text_len))))\n",
    "\n",
    "    print(\"\\n\")"
   ]
  },
  {
   "cell_type": "code",
   "execution_count": 33,
   "metadata": {
    "colab": {},
    "colab_type": "code",
    "id": "iuHCUaLM-Hxp"
   },
   "outputs": [],
   "source": []
  }
 ],
 "metadata": {
  "accelerator": "GPU",
  "colab": {
   "collapsed_sections": [],
   "name": "Giga_Summarization.ipynb",
   "provenance": []
  },
  "kernelspec": {
   "display_name": "Python 3",
   "language": "python",
   "name": "python3"
  },
  "language_info": {
   "codemirror_mode": {
    "name": "ipython",
    "version": 3
   },
   "file_extension": ".py",
   "mimetype": "text/x-python",
   "name": "python",
   "nbconvert_exporter": "python",
   "pygments_lexer": "ipython3",
   "version": "3.7.6"
  }
 },
 "nbformat": 4,
 "nbformat_minor": 4
}
